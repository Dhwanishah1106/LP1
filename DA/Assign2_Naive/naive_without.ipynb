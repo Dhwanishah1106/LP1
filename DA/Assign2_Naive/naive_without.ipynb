{
 "cells": [
  {
   "cell_type": "code",
   "execution_count": 1,
   "metadata": {},
   "outputs": [],
   "source": [
    "import numpy as np\n",
    "import pandas as pd\n",
    "%matplotlib inline\n",
    "import matplotlib.pyplot as plt\n",
    "from sklearn.model_selection import train_test_split\n",
    "from sklearn.metrics import confusion_matrix\n",
    "from sklearn.metrics import accuracy_score"
   ]
  },
  {
   "cell_type": "code",
   "execution_count": 2,
   "metadata": {},
   "outputs": [],
   "source": [
    "df = pd.read_csv('diabetes.csv')"
   ]
  },
  {
   "cell_type": "code",
   "execution_count": 3,
   "metadata": {},
   "outputs": [
    {
     "data": {
      "text/plain": [
       "Index(['Pregnancies', 'Glucose', 'BloodPressure', 'SkinThickness', 'Insulin',\n",
       "       'BMI', 'DiabetesPedigreeFunction', 'Age', 'Outcome'],\n",
       "      dtype='object')"
      ]
     },
     "execution_count": 3,
     "metadata": {},
     "output_type": "execute_result"
    }
   ],
   "source": [
    "df.columns"
   ]
  },
  {
   "cell_type": "code",
   "execution_count": 4,
   "metadata": {},
   "outputs": [
    {
     "data": {
      "text/html": [
       "<div>\n",
       "<style scoped>\n",
       "    .dataframe tbody tr th:only-of-type {\n",
       "        vertical-align: middle;\n",
       "    }\n",
       "\n",
       "    .dataframe tbody tr th {\n",
       "        vertical-align: top;\n",
       "    }\n",
       "\n",
       "    .dataframe thead th {\n",
       "        text-align: right;\n",
       "    }\n",
       "</style>\n",
       "<table border=\"1\" class=\"dataframe\">\n",
       "  <thead>\n",
       "    <tr style=\"text-align: right;\">\n",
       "      <th></th>\n",
       "      <th>Pregnancies</th>\n",
       "      <th>Glucose</th>\n",
       "      <th>BloodPressure</th>\n",
       "      <th>SkinThickness</th>\n",
       "      <th>Insulin</th>\n",
       "      <th>BMI</th>\n",
       "      <th>DiabetesPedigreeFunction</th>\n",
       "      <th>Age</th>\n",
       "      <th>Outcome</th>\n",
       "    </tr>\n",
       "  </thead>\n",
       "  <tbody>\n",
       "    <tr>\n",
       "      <th>0</th>\n",
       "      <td>6</td>\n",
       "      <td>148</td>\n",
       "      <td>72</td>\n",
       "      <td>35</td>\n",
       "      <td>0</td>\n",
       "      <td>33.6</td>\n",
       "      <td>0.627</td>\n",
       "      <td>50</td>\n",
       "      <td>1</td>\n",
       "    </tr>\n",
       "    <tr>\n",
       "      <th>1</th>\n",
       "      <td>1</td>\n",
       "      <td>85</td>\n",
       "      <td>66</td>\n",
       "      <td>29</td>\n",
       "      <td>0</td>\n",
       "      <td>26.6</td>\n",
       "      <td>0.351</td>\n",
       "      <td>31</td>\n",
       "      <td>0</td>\n",
       "    </tr>\n",
       "    <tr>\n",
       "      <th>2</th>\n",
       "      <td>8</td>\n",
       "      <td>183</td>\n",
       "      <td>64</td>\n",
       "      <td>0</td>\n",
       "      <td>0</td>\n",
       "      <td>23.3</td>\n",
       "      <td>0.672</td>\n",
       "      <td>32</td>\n",
       "      <td>1</td>\n",
       "    </tr>\n",
       "    <tr>\n",
       "      <th>3</th>\n",
       "      <td>1</td>\n",
       "      <td>89</td>\n",
       "      <td>66</td>\n",
       "      <td>23</td>\n",
       "      <td>94</td>\n",
       "      <td>28.1</td>\n",
       "      <td>0.167</td>\n",
       "      <td>21</td>\n",
       "      <td>0</td>\n",
       "    </tr>\n",
       "    <tr>\n",
       "      <th>4</th>\n",
       "      <td>0</td>\n",
       "      <td>137</td>\n",
       "      <td>40</td>\n",
       "      <td>35</td>\n",
       "      <td>168</td>\n",
       "      <td>43.1</td>\n",
       "      <td>2.288</td>\n",
       "      <td>33</td>\n",
       "      <td>1</td>\n",
       "    </tr>\n",
       "  </tbody>\n",
       "</table>\n",
       "</div>"
      ],
      "text/plain": [
       "   Pregnancies  Glucose  BloodPressure  SkinThickness  Insulin   BMI  \\\n",
       "0            6      148             72             35        0  33.6   \n",
       "1            1       85             66             29        0  26.6   \n",
       "2            8      183             64              0        0  23.3   \n",
       "3            1       89             66             23       94  28.1   \n",
       "4            0      137             40             35      168  43.1   \n",
       "\n",
       "   DiabetesPedigreeFunction  Age  Outcome  \n",
       "0                     0.627   50        1  \n",
       "1                     0.351   31        0  \n",
       "2                     0.672   32        1  \n",
       "3                     0.167   21        0  \n",
       "4                     2.288   33        1  "
      ]
     },
     "execution_count": 4,
     "metadata": {},
     "output_type": "execute_result"
    }
   ],
   "source": [
    "df.head()"
   ]
  },
  {
   "cell_type": "code",
   "execution_count": 5,
   "metadata": {},
   "outputs": [
    {
     "data": {
      "image/png": "[encoded data removed]",
      "text/plain": [
       "<Figure size 432x288 with 9 Axes>"
      ]
     },
     "metadata": {},
     "output_type": "display_data"
    }
   ],
   "source": [
    "df.hist()\n",
    "plt.show()"
   ]
  },
  {
   "cell_type": "code",
   "execution_count": 6,
   "metadata": {},
   "outputs": [],
   "source": [
    "y = df[\"Outcome\"]\n",
    "X = df.drop([\"Outcome\"], axis=1)"
   ]
  },
  {
   "cell_type": "code",
   "execution_count": 7,
   "metadata": {},
   "outputs": [],
   "source": [
    "X_train, X_test, y_train, y_test = train_test_split(X,y)"
   ]
  },
  {
   "cell_type": "code",
   "execution_count": 8,
   "metadata": {},
   "outputs": [],
   "source": [
    "train_mean_pos = X_train[y_train == 1].mean()\n",
    "train_std_pos = X_train[y_train == 1].std()\n",
    "train_mean_neg = X_train[y_train == 0].mean()\n",
    "train_std_neg = X_train[y_train == 0].std()"
   ]
  },
  {
   "cell_type": "code",
   "execution_count": 9,
   "metadata": {},
   "outputs": [],
   "source": [
    "summary = {\"train_mean_pos\":train_mean_pos.tolist(),\n",
    "            \"train_mean_neg\":train_mean_neg.tolist(),\n",
    "             \"train_std_pos\":train_std_pos.tolist(),\n",
    "              \"train_std_neg\":train_std_neg.tolist()\n",
    "          }"
   ]
  },
  {
   "cell_type": "code",
   "execution_count": 10,
   "metadata": {},
   "outputs": [
    {
     "data": {
      "text/plain": [
       "{'train_mean_pos': [5.093922651933702,\n",
       "  140.1767955801105,\n",
       "  69.83977900552486,\n",
       "  22.662983425414364,\n",
       "  103.99447513812154,\n",
       "  35.22486187845305,\n",
       "  0.5659226519337018,\n",
       "  37.3756906077348],\n",
       " 'train_mean_neg': [3.466292134831461,\n",
       "  111.26966292134831,\n",
       "  68.41292134831461,\n",
       "  20.230337078651687,\n",
       "  71.1685393258427,\n",
       "  30.54073033707867,\n",
       "  0.4261910112359552,\n",
       "  31.27247191011236],\n",
       " 'train_std_pos': [3.74121438611488,\n",
       "  30.889798976130592,\n",
       "  23.088038460442895,\n",
       "  17.59362921137937,\n",
       "  139.29889914367465,\n",
       "  7.815823736194471,\n",
       "  0.3718188994443925,\n",
       "  10.928671017779598],\n",
       " 'train_std_neg': [3.0611585331571844,\n",
       "  26.31221600078514,\n",
       "  17.683150296240495,\n",
       "  15.052500831905267,\n",
       "  106.94605574037705,\n",
       "  7.598761835781948,\n",
       "  0.29999393895866006,\n",
       "  11.468090478565333]}"
      ]
     },
     "execution_count": 10,
     "metadata": {},
     "output_type": "execute_result"
    }
   ],
   "source": [
    "summary"
   ]
  },
  {
   "cell_type": "code",
   "execution_count": 11,
   "metadata": {},
   "outputs": [],
   "source": [
    "def cond_prob(x, mean, std):\n",
    "    variance = std*std\n",
    "    p = 1/(np.sqrt(2*np.pi*variance)) * np.exp((-(x-mean)**2) / (2*variance))\n",
    "    return p"
   ]
  },
  {
   "cell_type": "code",
   "execution_count": 12,
   "metadata": {},
   "outputs": [],
   "source": [
    "def posterior_prob(row, summary):\n",
    "    pos_prob = len(X_train[y_train == 1]) / (len(X_train))\n",
    "    neg_prob = len(X_train[y_train == 0]) / (len(X_train))\n",
    "    \n",
    "    for i in range(0, len(row)):\n",
    "        pos_prob = pos_prob * cond_prob(row[i], train_mean_pos[i], train_std_pos[i])\n",
    "    for i in range(0, len(row)):\n",
    "        neg_prob = neg_prob * cond_prob(row[i], train_mean_neg[i], train_std_neg[i])\n",
    "    return [pos_prob, neg_prob]"
   ]
  },
  {
   "cell_type": "code",
   "execution_count": 13,
   "metadata": {},
   "outputs": [],
   "source": [
    "predicted_raw = []\n",
    "for row in X_test.values.tolist():\n",
    "    predicted_raw.append(posterior_prob(row, summary))"
   ]
  },
  {
   "cell_type": "code",
   "execution_count": 14,
   "metadata": {},
   "outputs": [
    {
     "data": {
      "text/plain": [
       "[[1.7546866073783455e-14, 6.727991281216123e-14],\n",
       " [9.660762364620048e-15, 8.548731568341244e-14],\n",
       " [9.612965405736209e-16, 2.6106594103339117e-17],\n",
       " [7.625158353382548e-15, 4.5340073341679253e-13],\n",
       " [4.402965626414157e-13, 4.050672426441665e-13],\n",
       " [3.6269544623841566e-13, 7.447941266185071e-13],\n",
       " [1.604444362617867e-14, 1.1791607991323813e-12],\n",
       " [2.4848202506861545e-14, 2.2153869935374335e-13],\n",
       " [6.086665250938289e-14, 5.741435334939896e-15],\n",
       " [1.5919544831067746e-13, 2.626465600640753e-12],\n",
       " [4.0738962970593754e-14, 9.97080175478603e-15],\n",
       " [2.615809062240159e-13, 1.4186970667693127e-12],\n",
       " [5.5613012698639473e-14, 1.5039148888766695e-12],\n",
       " [1.7594887066408985e-14, 2.40754519834222e-16],\n",
       " [8.751446884174436e-15, 1.0384956370679962e-12],\n",
       " [3.569846045721946e-14, 5.084410565036611e-13],\n",
       " [9.984142023234806e-15, 7.820500113443476e-16],\n",
       " [1.3943993915333909e-14, 1.6697058584874863e-13],\n",
       " [7.056182550444984e-14, 4.981221366227997e-13],\n",
       " [8.319530177620254e-14, 4.216573645267338e-14],\n",
       " [3.9637356242434095e-14, 9.97703694247899e-14],\n",
       " [9.113445820534907e-15, 1.7460754198877386e-15],\n",
       " [6.019394647990067e-14, 5.525669888405713e-14],\n",
       " [8.710726923791248e-15, 2.592750285380288e-16],\n",
       " [2.7929971329705574e-13, 2.596792976755538e-13],\n",
       " [8.746381799525984e-14, 3.919569729764025e-13],\n",
       " [3.762182217413724e-21, 9.943848273213329e-20],\n",
       " [5.653880076589835e-15, 2.5833074137593054e-15],\n",
       " [5.553040413958027e-13, 3.1685079623253924e-12],\n",
       " [1.9677410853237433e-14, 8.392881559317103e-13],\n",
       " [5.4647938269990735e-14, 9.33699560198282e-13],\n",
       " [1.3971821502560305e-13, 2.72746182729385e-13],\n",
       " [2.0311772556738313e-14, 5.769132846941357e-13],\n",
       " [6.430447353906835e-14, 1.5270239641298824e-12],\n",
       " [3.69058253536526e-13, 1.4907245203787792e-13],\n",
       " [2.859852870907304e-20, 5.515487969133804e-20],\n",
       " [4.075429398162706e-14, 4.4954526961531325e-13],\n",
       " [8.941916139312463e-15, 7.378530133153443e-17],\n",
       " [4.687310054793526e-14, 1.206912696626456e-12],\n",
       " [1.4694575193699316e-13, 1.7502069741537865e-12],\n",
       " [6.733612943192376e-14, 9.737523084198016e-14],\n",
       " [1.1644560481664728e-14, 6.748128108821477e-17],\n",
       " [2.374001552488501e-14, 1.3681339963554255e-12],\n",
       " [6.334015669464495e-16, 1.1359239744347264e-13],\n",
       " [7.641074363589626e-14, 9.351693822030758e-13],\n",
       " [1.0263379116641144e-13, 8.006336766847274e-14],\n",
       " [2.859075584952299e-13, 1.7922523735834235e-13],\n",
       " [3.7011739734762245e-14, 2.55106657381959e-12],\n",
       " [1.9861625059478504e-13, 3.5689062053092373e-14],\n",
       " [1.5577290610277987e-14, 1.4154664928691344e-14],\n",
       " [1.9561289524397545e-14, 1.5167195331796504e-12],\n",
       " [1.4319905894137593e-13, 7.650088472167529e-13],\n",
       " [6.073517124977914e-13, 1.1400749947696228e-12],\n",
       " [2.2214132513413855e-13, 2.5777056352105954e-13],\n",
       " [4.087535422966733e-14, 4.1343835451405603e-13],\n",
       " [3.2475189141797535e-20, 1.8704418228985266e-19],\n",
       " [3.4891567796371822e-15, 7.902915419691247e-14],\n",
       " [6.1294275410278395e-15, 5.456605612426573e-13],\n",
       " [7.745306043659492e-14, 2.411081128757283e-14],\n",
       " [2.7524071622187222e-14, 3.191251926516097e-14],\n",
       " [7.080086145486372e-14, 1.4061956251203767e-12],\n",
       " [1.202366987708165e-13, 2.7116977328503807e-13],\n",
       " [1.5691908056406416e-13, 1.3576925770976532e-12],\n",
       " [8.513877441177964e-15, 9.38365018844869e-14],\n",
       " [4.97827679708606e-14, 1.1964938702643794e-12],\n",
       " [2.9276482124459233e-14, 3.512539467773352e-13],\n",
       " [1.087253926911797e-14, 8.822567451969802e-13],\n",
       " [3.928925430030954e-15, 1.0331473989844266e-13],\n",
       " [8.26472895695428e-15, 2.4365244594647168e-14],\n",
       " [1.520149668581539e-14, 2.3937665256441007e-13],\n",
       " [4.8170332973726945e-14, 2.133254779198834e-12],\n",
       " [3.3399206136280107e-15, 9.17517644181131e-16],\n",
       " [1.325666450804917e-13, 7.982721816602971e-13],\n",
       " [2.9992537112427305e-14, 3.4691756230467275e-13],\n",
       " [8.515394654673797e-14, 1.2335252374055333e-14],\n",
       " [1.4343440662082054e-14, 8.920347144289128e-13],\n",
       " [9.824424431793907e-14, 2.545786365329602e-13],\n",
       " [4.390220004201555e-16, 5.642025775489707e-19],\n",
       " [1.9697303089022382e-14, 3.990962934827927e-14],\n",
       " [7.795815535978078e-15, 1.5941881549651762e-13],\n",
       " [1.0423876361886161e-14, 7.418379869781238e-13],\n",
       " [3.3018724129413373e-13, 3.2541901079644842e-12],\n",
       " [2.6596850358539697e-13, 1.349687630501332e-12],\n",
       " [1.253785436916551e-13, 3.973279206110818e-13],\n",
       " [8.010927670460059e-14, 2.6633402971379115e-12],\n",
       " [1.7819094264294375e-14, 1.3019003435416498e-12],\n",
       " [1.679000157019844e-14, 1.820028742781099e-13],\n",
       " [2.0797118661898162e-14, 1.4875579567647869e-12],\n",
       " [6.232266870407549e-14, 1.5281730682766611e-13],\n",
       " [1.0710363596684243e-14, 8.373371935250271e-13],\n",
       " [6.057040774234714e-16, 5.126065076193378e-18],\n",
       " [1.63898568162237e-13, 4.0492429978260367e-14],\n",
       " [1.6912195705104665e-14, 3.414554509937801e-14],\n",
       " [1.7785393327093878e-14, 1.201991777334642e-12],\n",
       " [4.819474596398135e-14, 7.105300260173258e-13],\n",
       " [7.194550884072477e-19, 9.40586238687067e-17],\n",
       " [2.0841710823015407e-13, 1.409199077365139e-13],\n",
       " [3.024672472990144e-14, 1.610682211105187e-12],\n",
       " [5.065037796532104e-15, 4.425104922982493e-14],\n",
       " [1.6434148149067713e-13, 1.4051197594204823e-12],\n",
       " [1.246886499861263e-13, 1.7535991991263545e-13],\n",
       " [1.5189526252266586e-15, 3.4527776788730953e-15],\n",
       " [3.864961288932579e-14, 8.41322945608116e-15],\n",
       " [4.8548306378184854e-14, 1.1195781978321985e-14],\n",
       " [1.7211463367838696e-13, 3.4358608122702505e-12],\n",
       " [6.787100882777215e-14, 2.808169798256058e-13],\n",
       " [1.5818809833262812e-13, 8.759601712632938e-13],\n",
       " [5.18405865470405e-13, 6.599234364260356e-13],\n",
       " [1.4719346258975082e-13, 5.123108211161907e-14],\n",
       " [1.576505335368518e-13, 1.1872964007137108e-12],\n",
       " [2.666303917821457e-15, 3.8443894612121275e-17],\n",
       " [2.7298472333056373e-15, 8.602712971565875e-17],\n",
       " [4.8480720166585425e-14, 1.5806872500146455e-12],\n",
       " [1.774963240200244e-14, 2.0601269062049416e-13],\n",
       " [1.5706223750899111e-13, 1.7983670201773729e-12],\n",
       " [2.151821674144339e-14, 2.467601815297606e-13],\n",
       " [4.070064871423482e-14, 3.053627395481708e-13],\n",
       " [1.44872768519369e-13, 9.505998200842588e-13],\n",
       " [7.194673932840079e-14, 1.244581005365193e-12],\n",
       " [1.7636978022212172e-13, 8.320950172398607e-14],\n",
       " [3.9869156356519185e-14, 8.016285307300422e-13],\n",
       " [1.387524994550221e-16, 1.3600134139834204e-19],\n",
       " [2.6979971808502334e-14, 7.058097298306623e-13],\n",
       " [3.3325150514131806e-14, 1.3482280023678696e-13],\n",
       " [2.6284137617114826e-14, 6.867412514379281e-13],\n",
       " [1.1988942265769889e-14, 8.859227155818343e-15],\n",
       " [1.1801586441280457e-13, 5.997098701371153e-15],\n",
       " [7.93370080756638e-14, 1.3135299500281083e-12],\n",
       " [5.161913185911778e-14, 3.7483768796209884e-13],\n",
       " [8.403178457654537e-14, 2.4716001660668018e-12],\n",
       " [1.2255553001002088e-15, 1.7515810022000508e-15],\n",
       " [5.2078476752513616e-14, 4.348934603340502e-13],\n",
       " [2.345273653909991e-13, 2.6847547864944963e-12],\n",
       " [3.0221238758014785e-14, 1.483932592072679e-14],\n",
       " [4.2318838690462975e-14, 2.1621863601915808e-14],\n",
       " [2.0905015625621518e-14, 5.489305825426585e-13],\n",
       " [1.594438158085093e-15, 3.415931215094651e-16],\n",
       " [5.333494223373022e-16, 7.924732803544466e-17],\n",
       " [2.0513874810022243e-14, 1.6805724931784115e-12],\n",
       " [3.769545788993e-15, 1.3510811157988568e-13],\n",
       " [3.042641566599951e-14, 2.1237428304141976e-14],\n",
       " [7.248086430189806e-14, 9.852415583193541e-13],\n",
       " [5.5469746562522535e-14, 1.15322021374261e-13],\n",
       " [2.8714727354279464e-14, 2.276543325675905e-12],\n",
       " [7.345927015764021e-14, 1.3289844051992825e-13],\n",
       " [8.766401165257937e-14, 2.1871538551432873e-12],\n",
       " [2.0368741359667166e-14, 3.7668221298236033e-13],\n",
       " [9.488517974386648e-14, 9.982213064647306e-13],\n",
       " [2.5971663737676037e-14, 1.3080570476754887e-12],\n",
       " [1.1364565344366952e-13, 1.89791362448225e-12],\n",
       " [1.1838854622481497e-13, 1.3356576446088365e-13],\n",
       " [1.399330629870334e-14, 1.780454318819408e-13],\n",
       " [1.359230070281896e-13, 5.340556949373577e-13],\n",
       " [5.050101596820715e-16, 6.95941910032133e-16],\n",
       " [1.4525255290757595e-13, 1.2527525142346005e-12],\n",
       " [3.158765225852287e-14, 8.156370590183711e-13],\n",
       " [1.3734975232951536e-13, 1.3045258961533377e-12],\n",
       " [3.2491403942101243e-16, 2.0721704733324566e-16],\n",
       " [4.610231067026061e-15, 4.780517829361815e-15],\n",
       " [1.2235289822373335e-14, 1.4295507238365646e-16],\n",
       " [1.0900589441891032e-13, 9.298533721346622e-13],\n",
       " [5.1186902972893026e-14, 2.879265749531571e-12],\n",
       " [1.1469172083256451e-17, 4.6308528993182454e-17],\n",
       " [1.462657256288216e-14, 5.199628947418886e-13],\n",
       " [3.152351676116481e-14, 1.7683166005809124e-12],\n",
       " [1.7996668344924867e-14, 1.9487625840002178e-13],\n",
       " [9.235874257132604e-16, 5.931922301161334e-16],\n",
       " [7.448721795013347e-14, 2.1063879546000547e-12],\n",
       " [4.286097995490409e-15, 2.4068664317767674e-14],\n",
       " [8.321002829764197e-14, 5.763767514348967e-13],\n",
       " [2.0251752198940055e-15, 9.653738218519425e-16],\n",
       " [9.863065354080587e-15, 7.600857388786518e-14],\n",
       " [1.4206286299807927e-13, 1.661360914845772e-14],\n",
       " [3.0627840636225347e-14, 1.0418149870121619e-15],\n",
       " [3.368028092905351e-14, 1.954355697962849e-12],\n",
       " [7.947454280327484e-15, 5.3879372695714594e-15],\n",
       " [1.6679306954669108e-14, 5.065055687705164e-14],\n",
       " [3.6940780963343126e-14, 3.0386384418320346e-14],\n",
       " [1.6812712152156316e-21, 5.292445398937763e-20],\n",
       " [1.7772021183784306e-14, 1.2744354793304467e-13],\n",
       " [2.6735487131264865e-13, 2.443626337376139e-13],\n",
       " [1.4658828151611856e-14, 6.738108962318387e-16],\n",
       " [1.2280190558149974e-13, 4.306235305287682e-13],\n",
       " [2.5099069473855746e-18, 3.2920174003933915e-16],\n",
       " [2.0099612868711195e-13, 5.944283632131907e-13],\n",
       " [3.1843282329947524e-13, 8.291855375589648e-13],\n",
       " [1.9930862394652254e-15, 1.8777223522113902e-13],\n",
       " [9.502731358549119e-15, 4.6236422145145826e-14],\n",
       " [8.177070521611764e-15, 6.661497143458428e-15],\n",
       " [7.445369454292144e-14, 1.7021160971737349e-12],\n",
       " [2.534574949917085e-14, 1.5095852991820215e-14],\n",
       " [4.229534060788489e-14, 1.1657328887607947e-12],\n",
       " [8.999024250940727e-14, 9.515586119604317e-14],\n",
       " [3.516312267219339e-16, 4.690529566535871e-18],\n",
       " [1.3012807149143164e-14, 1.3589286572085642e-14],\n",
       " [6.106766264034371e-15, 1.0616657043082995e-13],\n",
       " [3.7756018074746425e-14, 1.2314812158204232e-12],\n",
       " [1.9678379196888035e-15, 1.335028165939143e-15],\n",
       " [6.312339277892517e-15, 4.735003197092017e-13],\n",
       " [2.3196868676624446e-14, 1.6762000306490518e-12],\n",
       " [4.445252736785332e-14, 2.384130325288429e-12],\n",
       " [8.244759693070089e-14, 2.5594315567745573e-12],\n",
       " [1.959782775370783e-15, 1.8696337482341503e-17],\n",
       " [3.6676085303587496e-14, 5.457404664953944e-13],\n",
       " [2.207281217661047e-13, 1.1167740322802633e-12],\n",
       " [9.987772913874604e-14, 3.2330544608782934e-12],\n",
       " [1.5290691824447117e-14, 9.564031101806956e-15],\n",
       " [3.2497965587476985e-14, 2.5613902562446307e-14],\n",
       " [4.279929093718781e-16, 7.966801328421518e-17],\n",
       " [7.662691337250958e-14, 1.0009023681157464e-14],\n",
       " [1.589239499221984e-13, 1.2646455470480833e-12],\n",
       " [9.462900294652285e-15, 2.5745773332115832e-14],\n",
       " [1.199566300052949e-15, 1.3477752496552042e-18],\n",
       " [2.681649692604251e-14, 3.9658009277348407e-13],\n",
       " [3.01786664426732e-13, 1.1824345007577936e-12],\n",
       " [1.0057154905073506e-14, 7.01172161346516e-16],\n",
       " [7.47229152142318e-14, 2.2944818501607703e-12],\n",
       " [4.670171369131607e-14, 7.022856424999061e-13],\n",
       " [2.1452315121687874e-14, 1.0658828148977103e-12],\n",
       " [6.32527046981713e-16, 6.593468743238901e-16],\n",
       " [1.1032832592266714e-13, 2.6729048904721347e-12],\n",
       " [1.796816216536986e-13, 2.0569000014713897e-13],\n",
       " [9.810407071646615e-14, 2.2254105723093138e-12],\n",
       " [2.510402672477089e-14, 2.0887632551027887e-13],\n",
       " [1.735973274254585e-22, 2.649692670508656e-28],\n",
       " [1.165101346236012e-13, 1.3410395855113444e-12],\n",
       " [1.4925743209535696e-14, 4.495773997716447e-15],\n",
       " [1.2386077930330892e-13, 8.435921532132637e-13],\n",
       " [7.015036871620768e-14, 2.3806929621068264e-12],\n",
       " [5.0132190601764335e-14, 2.1020541513031672e-14],\n",
       " [1.6012794099231335e-14, 2.1738840923779188e-14]]"
      ]
     },
     "execution_count": 14,
     "metadata": {},
     "output_type": "execute_result"
    }
   ],
   "source": [
    "predicted_raw"
   ]
  },
  {
   "cell_type": "code",
   "execution_count": 15,
   "metadata": {},
   "outputs": [],
   "source": [
    "predictions = []\n",
    "for row in predicted_raw:\n",
    "    if(row[0] > row[1]):\n",
    "        predictions.append(1)\n",
    "    else:\n",
    "        predictions.append(0)"
   ]
  },
  {
   "cell_type": "code",
   "execution_count": 18,
   "metadata": {},
   "outputs": [
    {
     "data": {
      "text/plain": [
       "array([[128,  39],\n",
       "       [ 16,  48]])"
      ]
     },
     "execution_count": 18,
     "metadata": {},
     "output_type": "execute_result"
    }
   ],
   "source": [
    "confusion_matrix(predictions, y_test)"
   ]
  },
  {
   "cell_type": "code",
   "execution_count": 20,
   "metadata": {},
   "outputs": [
    {
     "data": {
      "text/plain": [
       "0.7619047619047619"
      ]
     },
     "execution_count": 20,
     "metadata": {},
     "output_type": "execute_result"
    }
   ],
   "source": [
    "accuracy_score(predictions, y_test)"
   ]
  },
  {
   "cell_type": "code",
   "execution_count": null,
   "metadata": {},
   "outputs": [],
   "source": []
  }
 ],
 "metadata": {
  "kernelspec": {
   "display_name": "Python 3",
   "language": "python",
   "name": "python3"
  },
  "language_info": {
   "codemirror_mode": {
    "name": "ipython",
    "version": 3
   },
   "file_extension": ".py",
   "mimetype": "text/x-python",
   "name": "python",
   "nbconvert_exporter": "python",
   "pygments_lexer": "ipython3",
   "version": "3.6.5"
  }
 },
 "nbformat": 4,
 "nbformat_minor": 2
}
