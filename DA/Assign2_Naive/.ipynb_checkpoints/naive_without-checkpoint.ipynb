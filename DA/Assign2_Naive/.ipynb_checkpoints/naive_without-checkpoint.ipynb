{
 "cells": [
  {
   "cell_type": "code",
   "execution_count": 23,
   "metadata": {},
   "outputs": [],
   "source": [
    "import numpy as np\n",
    "import pandas as pd\n",
    "%matplotlib inline\n",
    "import matplotlib.pyplot as plt\n",
    "from sklearn.model_selection import train_test_split\n",
    "from sklearn.metrics import confusion_matrix\n",
    "from sklearn.metrics import accuracy_score"
   ]
  },
  {
   "cell_type": "code",
   "execution_count": 24,
   "metadata": {},
   "outputs": [],
   "source": [
    "df = pd.read_csv('diabetes.csv')"
   ]
  },
  {
   "cell_type": "code",
   "execution_count": 25,
   "metadata": {},
   "outputs": [
    {
     "data": {
      "text/plain": [
       "Index(['Pregnancies', 'Glucose', 'BloodPressure', 'SkinThickness', 'Insulin',\n",
       "       'BMI', 'DiabetesPedigreeFunction', 'Age', 'Outcome'],\n",
       "      dtype='object')"
      ]
     },
     "execution_count": 25,
     "metadata": {},
     "output_type": "execute_result"
    }
   ],
   "source": [
    "df.columns"
   ]
  },
  {
   "cell_type": "code",
   "execution_count": 26,
   "metadata": {},
   "outputs": [
    {
     "data": {
      "text/html": [
       "<div>\n",
       "<style scoped>\n",
       "    .dataframe tbody tr th:only-of-type {\n",
       "        vertical-align: middle;\n",
       "    }\n",
       "\n",
       "    .dataframe tbody tr th {\n",
       "        vertical-align: top;\n",
       "    }\n",
       "\n",
       "    .dataframe thead th {\n",
       "        text-align: right;\n",
       "    }\n",
       "</style>\n",
       "<table border=\"1\" class=\"dataframe\">\n",
       "  <thead>\n",
       "    <tr style=\"text-align: right;\">\n",
       "      <th></th>\n",
       "      <th>Pregnancies</th>\n",
       "      <th>Glucose</th>\n",
       "      <th>BloodPressure</th>\n",
       "      <th>SkinThickness</th>\n",
       "      <th>Insulin</th>\n",
       "      <th>BMI</th>\n",
       "      <th>DiabetesPedigreeFunction</th>\n",
       "      <th>Age</th>\n",
       "      <th>Outcome</th>\n",
       "    </tr>\n",
       "  </thead>\n",
       "  <tbody>\n",
       "    <tr>\n",
       "      <th>0</th>\n",
       "      <td>6</td>\n",
       "      <td>148</td>\n",
       "      <td>72</td>\n",
       "      <td>35</td>\n",
       "      <td>0</td>\n",
       "      <td>33.6</td>\n",
       "      <td>0.627</td>\n",
       "      <td>50</td>\n",
       "      <td>1</td>\n",
       "    </tr>\n",
       "    <tr>\n",
       "      <th>1</th>\n",
       "      <td>1</td>\n",
       "      <td>85</td>\n",
       "      <td>66</td>\n",
       "      <td>29</td>\n",
       "      <td>0</td>\n",
       "      <td>26.6</td>\n",
       "      <td>0.351</td>\n",
       "      <td>31</td>\n",
       "      <td>0</td>\n",
       "    </tr>\n",
       "    <tr>\n",
       "      <th>2</th>\n",
       "      <td>8</td>\n",
       "      <td>183</td>\n",
       "      <td>64</td>\n",
       "      <td>0</td>\n",
       "      <td>0</td>\n",
       "      <td>23.3</td>\n",
       "      <td>0.672</td>\n",
       "      <td>32</td>\n",
       "      <td>1</td>\n",
       "    </tr>\n",
       "    <tr>\n",
       "      <th>3</th>\n",
       "      <td>1</td>\n",
       "      <td>89</td>\n",
       "      <td>66</td>\n",
       "      <td>23</td>\n",
       "      <td>94</td>\n",
       "      <td>28.1</td>\n",
       "      <td>0.167</td>\n",
       "      <td>21</td>\n",
       "      <td>0</td>\n",
       "    </tr>\n",
       "    <tr>\n",
       "      <th>4</th>\n",
       "      <td>0</td>\n",
       "      <td>137</td>\n",
       "      <td>40</td>\n",
       "      <td>35</td>\n",
       "      <td>168</td>\n",
       "      <td>43.1</td>\n",
       "      <td>2.288</td>\n",
       "      <td>33</td>\n",
       "      <td>1</td>\n",
       "    </tr>\n",
       "  </tbody>\n",
       "</table>\n",
       "</div>"
      ],
      "text/plain": [
       "   Pregnancies  Glucose  BloodPressure  SkinThickness  Insulin   BMI  \\\n",
       "0            6      148             72             35        0  33.6   \n",
       "1            1       85             66             29        0  26.6   \n",
       "2            8      183             64              0        0  23.3   \n",
       "3            1       89             66             23       94  28.1   \n",
       "4            0      137             40             35      168  43.1   \n",
       "\n",
       "   DiabetesPedigreeFunction  Age  Outcome  \n",
       "0                     0.627   50        1  \n",
       "1                     0.351   31        0  \n",
       "2                     0.672   32        1  \n",
       "3                     0.167   21        0  \n",
       "4                     2.288   33        1  "
      ]
     },
     "execution_count": 26,
     "metadata": {},
     "output_type": "execute_result"
    }
   ],
   "source": [
    "df.head()"
   ]
  },
  {
   "cell_type": "code",
   "execution_count": 27,
   "metadata": {},
   "outputs": [
    {
     "data": {
      "image/png": "[encoded data removed]",
      "text/plain": [
       "<Figure size 432x288 with 9 Axes>"
      ]
     },
     "metadata": {},
     "output_type": "display_data"
    }
   ],
   "source": [
    "df.hist()\n",
    "plt.show()"
   ]
  },
  {
   "cell_type": "code",
   "execution_count": 28,
   "metadata": {},
   "outputs": [],
   "source": [
    "y = df[\"Outcome\"]\n",
    "X = df.drop([\"Outcome\"], axis=1)"
   ]
  },
  {
   "cell_type": "code",
   "execution_count": 29,
   "metadata": {},
   "outputs": [],
   "source": [
    "X_train, X_test, y_train, y_test = train_test_split(X,y,test_size=0.3, random_state=5)"
   ]
  },
  {
   "cell_type": "code",
   "execution_count": 30,
   "metadata": {},
   "outputs": [],
   "source": [
    "train_mean_pos = X_train[y_train == 1].mean()\n",
    "train_std_pos = X_train[y_train == 1].std()\n",
    "train_mean_neg = X_train[y_train == 0].mean()\n",
    "train_std_neg = X_train[y_train == 0].std()"
   ]
  },
  {
   "cell_type": "code",
   "execution_count": 31,
   "metadata": {},
   "outputs": [],
   "source": [
    "summary = {\"train_mean_pos\":train_mean_pos.tolist(),\n",
    "            \"train_mean_neg\":train_mean_neg.tolist(),\n",
    "             \"train_std_pos\":train_std_pos.tolist(),\n",
    "              \"train_std_neg\":train_std_neg.tolist()\n",
    "          }"
   ]
  },
  {
   "cell_type": "code",
   "execution_count": 32,
   "metadata": {},
   "outputs": [
    {
     "data": {
      "text/plain": [
       "{'train_mean_pos': [4.928934010152284,\n",
       "  139.87817258883248,\n",
       "  70.11167512690355,\n",
       "  22.15228426395939,\n",
       "  104.42639593908629,\n",
       "  34.77664974619291,\n",
       "  0.5413401015228424,\n",
       "  37.055837563451774],\n",
       " 'train_mean_neg': [3.041176470588235,\n",
       "  109.41176470588235,\n",
       "  67.38235294117646,\n",
       "  20.358823529411765,\n",
       "  71.43529411764706,\n",
       "  30.374411764705897,\n",
       "  0.42219117647058785,\n",
       "  30.152941176470588],\n",
       " 'train_std_pos': [3.681867508162664,\n",
       "  31.781546768697044,\n",
       "  21.547472879336823,\n",
       "  17.314531980816014,\n",
       "  139.8367156894127,\n",
       "  7.291129846108818,\n",
       "  0.349173749314283,\n",
       "  11.047297616455387],\n",
       " 'train_std_neg': [2.9943031107769866,\n",
       "  25.283778944267517,\n",
       "  18.629463620870013,\n",
       "  14.73905008580584,\n",
       "  91.09312516713636,\n",
       "  8.118983796205473,\n",
       "  0.28536963853988,\n",
       "  11.021840353375234]}"
      ]
     },
     "execution_count": 32,
     "metadata": {},
     "output_type": "execute_result"
    }
   ],
   "source": [
    "summary"
   ]
  },
  {
   "cell_type": "code",
   "execution_count": 33,
   "metadata": {},
   "outputs": [],
   "source": [
    "def cond_prob(x, mean, std):\n",
    "    variance = std*std\n",
    "    p = 1/(np.sqrt(2*np.pi*variance)) * np.exp((-(x-mean)**2) / (2*variance))\n",
    "    return p"
   ]
  },
  {
   "cell_type": "code",
   "execution_count": 34,
   "metadata": {},
   "outputs": [],
   "source": [
    "def posterior_prob(row, summary):\n",
    "    pos_prob = len(X_train[y_train == 1]) / (len(X_train))\n",
    "    neg_prob = len(X_train[y_train == 0]) / (len(X_train))\n",
    "    \n",
    "    for i in range(0, len(row)):\n",
    "        pos_prob = pos_prob * cond_prob(row[i], train_mean_pos[i], train_std_pos[i])\n",
    "    for i in range(0, len(row)):\n",
    "        neg_prob = neg_prob * cond_prob(row[i], train_mean_neg[i], train_std_neg[i])\n",
    "    return [pos_prob, neg_prob]"
   ]
  },
  {
   "cell_type": "code",
   "execution_count": 35,
   "metadata": {},
   "outputs": [],
   "source": [
    "predicted_raw = []\n",
    "for row in X_test.values.tolist():\n",
    "    predicted_raw.append(posterior_prob(row, summary))"
   ]
  },
  {
   "cell_type": "code",
   "execution_count": 36,
   "metadata": {},
   "outputs": [
    {
     "data": {
      "text/plain": [
       "[[9.438732707414534e-14, 4.1404366745457364e-13],\n",
       " [1.9994429326293975e-15, 1.3251987889510226e-15],\n",
       " [4.408583391701141e-14, 1.4091861209008156e-12],\n",
       " [1.3609599399619327e-13, 1.5192643409443633e-12],\n",
       " [2.986605986545819e-14, 2.424552806127889e-12],\n",
       " [5.095486175543717e-15, 4.178317313233612e-14],\n",
       " [8.679262892600391e-14, 5.2394829077801836e-14],\n",
       " [6.404274170773491e-14, 2.978878903228332e-14],\n",
       " [1.018473990963516e-14, 4.886401742405142e-15],\n",
       " [2.599015445020711e-13, 1.1298881425976787e-13],\n",
       " [2.933264041664209e-17, 8.419586612687742e-17],\n",
       " [6.23113054481826e-13, 2.37722008223741e-12],\n",
       " [6.496018332460041e-16, 5.190946170384235e-18],\n",
       " [3.649663682986229e-14, 1.9914398824386072e-13],\n",
       " [5.556491817302365e-14, 2.5305293891102817e-12],\n",
       " [2.3004751150321683e-14, 1.7366462773935767e-13],\n",
       " [4.385429422660763e-14, 3.4643933212862444e-12],\n",
       " [3.1916742359794703e-15, 2.1155228021533454e-16],\n",
       " [1.4354400891828758e-14, 1.7176465759767915e-14],\n",
       " [2.7041251913429094e-14, 1.8144147035204369e-12],\n",
       " [1.1974306819756243e-13, 7.773541842978652e-13],\n",
       " [1.370146918676852e-13, 4.562054703459258e-14],\n",
       " [3.071802574075827e-14, 2.091668782631607e-12],\n",
       " [2.0626986994479033e-14, 1.9017967326140275e-15],\n",
       " [9.215376362851234e-18, 1.899420145247538e-16],\n",
       " [5.717411792322351e-14, 3.753505284181507e-13],\n",
       " [3.820343640704878e-13, 1.4061546203397469e-12],\n",
       " [3.3344065310825355e-13, 3.6494324329651056e-13],\n",
       " [2.4330341408321884e-17, 1.7766396295980468e-16],\n",
       " [3.1471004364005225e-15, 3.720646719265179e-16],\n",
       " [1.6801193725203915e-14, 1.2240550183449114e-12],\n",
       " [3.2510985052045885e-13, 3.812809311795501e-12],\n",
       " [6.684619272618277e-14, 1.206143132400417e-13],\n",
       " [1.0452514079410629e-14, 7.377709393854495e-14],\n",
       " [1.5513859355074318e-13, 8.155498996521861e-14],\n",
       " [1.533171537385079e-13, 2.4322412759103846e-12],\n",
       " [2.081250557425509e-16, 1.0873905954343098e-16],\n",
       " [1.2081652438703228e-13, 9.15735318444555e-14],\n",
       " [3.1885780147058194e-14, 1.0233185863516939e-12],\n",
       " [2.6865618993991074e-15, 3.0418749953988044e-13],\n",
       " [1.26378180365866e-13, 3.232457683069195e-13],\n",
       " [2.1379567142627915e-14, 3.852723221707044e-14],\n",
       " [1.6787873324849505e-13, 6.523281058346708e-13],\n",
       " [2.5473239548834015e-15, 1.4696822966040722e-19],\n",
       " [3.0718310318843763e-13, 3.776354244502636e-12],\n",
       " [1.1276955821214146e-23, 3.699050264555005e-29],\n",
       " [2.1349735723064202e-13, 2.0167834537904917e-14],\n",
       " [2.7323086555274667e-14, 9.766509199340053e-13],\n",
       " [2.2111691546436223e-14, 1.828693647863964e-14],\n",
       " [2.7195590563835516e-13, 7.820410384589383e-13],\n",
       " [2.475612547685981e-13, 5.1105326482412966e-14],\n",
       " [1.2107110129404138e-13, 2.692750921517922e-12],\n",
       " [6.37363289994255e-14, 5.711891131071389e-16],\n",
       " [4.072395783145841e-13, 1.0752619254164651e-12],\n",
       " [2.0864130173044768e-14, 1.4404581117649783e-13],\n",
       " [1.8784920161906e-14, 2.4681187084407406e-14],\n",
       " [3.5452858731616633e-13, 1.7309032290885571e-12],\n",
       " [4.405717020744126e-14, 3.6677991064679204e-13],\n",
       " [1.0326710914838648e-15, 8.203421514275376e-16],\n",
       " [2.6052332488875884e-14, 1.6414021302480259e-12],\n",
       " [3.2830818697862564e-14, 1.964095075414103e-15],\n",
       " [1.0966073260861259e-14, 2.5995063027529047e-15],\n",
       " [2.002822940826054e-14, 2.5447399524175593e-16],\n",
       " [8.962493873819262e-15, 6.238629068431037e-13],\n",
       " [1.3888874188075194e-13, 4.979068706767074e-13],\n",
       " [3.5608663478776e-16, 1.868437877243869e-15],\n",
       " [5.696190404113742e-14, 3.9982729658419616e-13],\n",
       " [7.623941403656278e-14, 1.0103011208173998e-13],\n",
       " [4.030408613573483e-15, 3.567798560363068e-17],\n",
       " [7.132078253525265e-14, 4.568783200168264e-13],\n",
       " [1.1146946989625085e-13, 4.322071588698521e-15],\n",
       " [1.2658816626398798e-13, 7.76203223103833e-13],\n",
       " [8.487822186496832e-14, 5.584508131920909e-13],\n",
       " [1.6346960990324502e-16, 1.7278233779611356e-21],\n",
       " [1.0018279951784189e-19, 3.1580343591082696e-26],\n",
       " [1.1120397504501668e-14, 1.9746575886429215e-14],\n",
       " [1.0546262837685008e-13, 3.800906031298842e-12],\n",
       " [1.5681704296522397e-14, 1.1992644449780889e-14],\n",
       " [2.3759289789459624e-13, 1.013573978931775e-13],\n",
       " [2.4454637641608365e-14, 1.680001310470523e-12],\n",
       " [2.4574715078795425e-14, 3.804599561635857e-15],\n",
       " [9.19592228490571e-16, 2.852314004931806e-19],\n",
       " [5.723538219739004e-14, 8.20023094073527e-14],\n",
       " [1.0813906199307232e-18, 6.369752343398335e-25],\n",
       " [1.093009774880951e-13, 2.598980292062889e-12],\n",
       " [1.625255267500889e-13, 1.1919142016607966e-12],\n",
       " [7.964507220864198e-14, 3.641119528708074e-12],\n",
       " [7.780912310223714e-15, 5.7880135126973845e-15],\n",
       " [6.192620022473941e-14, 1.0540994629684603e-12],\n",
       " [3.673842189629099e-13, 1.4589178787821014e-12],\n",
       " [1.6166171714009388e-15, 1.7871488552978335e-18],\n",
       " [2.9700152352894156e-14, 9.189146423308651e-14],\n",
       " [3.075453525654398e-14, 1.4645931393834054e-13],\n",
       " [5.943843853104126e-14, 6.670831608987929e-13],\n",
       " [6.30562054592381e-14, 5.945039185416077e-13],\n",
       " [3.489131042922832e-16, 5.1242389926676466e-17],\n",
       " [3.86023892572561e-16, 3.035132737267069e-17],\n",
       " [2.8146486149597305e-13, 1.1820634801037624e-12],\n",
       " [6.676943761644026e-14, 4.3058184948111994e-13],\n",
       " [7.527677736731308e-14, 3.0053767907255646e-12],\n",
       " [2.711817891874121e-14, 2.0891256503125187e-12],\n",
       " [3.9403081877805435e-14, 1.3433483452813694e-12],\n",
       " [3.807611258270656e-13, 3.5352201019584457e-13],\n",
       " [1.5373126844993932e-14, 5.619794812930714e-17],\n",
       " [9.800061231777977e-15, 1.9124041118437e-13],\n",
       " [1.0971433629136385e-14, 4.810161756218641e-16],\n",
       " [4.123646112784637e-14, 1.0996177872204153e-13],\n",
       " [9.0692006882523e-15, 1.3289152306258539e-12],\n",
       " [1.491962683189957e-13, 2.001629280371777e-15],\n",
       " [2.1536879842757248e-14, 7.770819141949825e-14],\n",
       " [2.101960360034492e-14, 3.0630828723200353e-13],\n",
       " [4.737488537722047e-14, 3.3686094247478456e-15],\n",
       " [7.304678019856792e-14, 1.3720412814982697e-12],\n",
       " [2.0942252500027457e-13, 1.9595567791950137e-12],\n",
       " [7.392642266705048e-14, 9.334665199459358e-13],\n",
       " [2.8314665936669663e-14, 1.7038035843058347e-12],\n",
       " [3.785795953390322e-14, 1.34117097287981e-14],\n",
       " [2.907687066276968e-13, 2.7003815678801322e-14],\n",
       " [1.5600330423805038e-13, 4.1112298836466175e-12],\n",
       " [2.4046639227478646e-14, 2.395152721350688e-12],\n",
       " [3.117624822495181e-17, 9.066310988647837e-19],\n",
       " [9.050213401139705e-15, 1.4422592398003458e-15],\n",
       " [7.564500327738603e-15, 8.4873813022417e-14],\n",
       " [3.4988073357809947e-13, 4.515556682065618e-12],\n",
       " [2.862966892095932e-14, 2.8141808624397025e-14],\n",
       " [1.0619620255507707e-13, 2.4286088200569207e-12],\n",
       " [7.17350159201115e-14, 3.0295801634701833e-12],\n",
       " [6.902782427840273e-14, 2.1198793006537724e-12],\n",
       " [4.4970007224847345e-15, 1.466701680764509e-13],\n",
       " [1.3401854424934332e-14, 1.1073822437699367e-12],\n",
       " [7.380207826569517e-15, 9.05035985805494e-18],\n",
       " [1.0703610302593508e-13, 3.831812102070168e-13],\n",
       " [4.08217002982522e-14, 1.1554789527891628e-14],\n",
       " [3.405448702231806e-13, 3.644069245844293e-12],\n",
       " [1.6101261410844508e-13, 1.1047340721866204e-12],\n",
       " [1.054452017634586e-13, 1.0085191620717391e-12],\n",
       " [1.2360916286373734e-13, 2.818956176875985e-14],\n",
       " [6.742639119432707e-14, 3.1347951644728096e-12],\n",
       " [3.158766230306039e-14, 3.075126727947464e-16],\n",
       " [8.930034141126388e-14, 3.4865429573335005e-12],\n",
       " [7.591586599928294e-14, 5.55040110845493e-13],\n",
       " [2.1955029093500528e-17, 1.8394570067937672e-20],\n",
       " [1.5772098426081027e-13, 2.110566367551458e-12],\n",
       " [1.1666788341386549e-15, 2.275666202566969e-16],\n",
       " [4.9160567801722595e-14, 2.467850740954252e-12],\n",
       " [7.123884955190556e-14, 1.2783192063389192e-13],\n",
       " [1.3533974562524261e-14, 1.020629394753178e-14],\n",
       " [5.091588786700329e-14, 8.102437144379187e-15],\n",
       " [6.134125228119386e-14, 2.382240987113558e-13],\n",
       " [3.184040553754121e-14, 1.8307877569897126e-12],\n",
       " [2.1286278198577486e-13, 1.437977134365918e-14],\n",
       " [2.537249975727953e-16, 1.1180272448897116e-16],\n",
       " [3.181557040799358e-14, 6.624965639835568e-13],\n",
       " [2.2116697651948608e-13, 1.1693272288840217e-13],\n",
       " [1.1786828740042093e-14, 5.4731023107777184e-14],\n",
       " [1.6971240513409657e-14, 5.61424500417051e-15],\n",
       " [6.705010494208589e-14, 7.53766936934484e-14],\n",
       " [1.657576621716256e-15, 6.446039023152291e-16],\n",
       " [1.411136154991987e-13, 1.0898554362438676e-12],\n",
       " [8.528403622328802e-16, 5.2422959712329436e-18],\n",
       " [2.2130159287553544e-14, 2.406789512538653e-12],\n",
       " [6.708397645678042e-15, 4.74974138291672e-15],\n",
       " [3.906136203348743e-13, 7.811608947415886e-13],\n",
       " [2.3947898383991603e-14, 1.7534053692982653e-12],\n",
       " [2.364444320173003e-13, 3.722089924781255e-12],\n",
       " [1.8194012214115213e-13, 2.179969581006645e-12],\n",
       " [8.85647044870971e-14, 5.145357888548329e-14],\n",
       " [4.1289805889655554e-14, 8.44412310602661e-13],\n",
       " [3.341271459316672e-13, 3.0941329446111925e-12],\n",
       " [2.2719675645218076e-13, 1.4622947423359434e-13],\n",
       " [1.1346832974893436e-14, 1.2086962373042128e-12],\n",
       " [4.6465910206016075e-14, 2.624372892707517e-12],\n",
       " [2.815411342912316e-13, 1.0800521895681501e-12],\n",
       " [4.263556420650572e-13, 6.805633973016802e-13],\n",
       " [2.2847860416554374e-13, 1.1346791128328058e-12],\n",
       " [5.2282327897517827e-14, 6.038157244857959e-14],\n",
       " [4.796922015733113e-13, 5.159412722092398e-13],\n",
       " [1.6404230563716643e-14, 3.392155178219164e-14],\n",
       " [4.8786700642576644e-21, 1.0137235035917861e-18],\n",
       " [6.507178213716333e-13, 4.393582394010004e-13],\n",
       " [7.927521161588425e-14, 1.319908525472999e-13],\n",
       " [1.251560900421243e-14, 1.6217794885995885e-12],\n",
       " [2.0953276698247285e-14, 3.004659827898323e-13],\n",
       " [8.760430448779729e-16, 7.4533002052339375e-16],\n",
       " [1.4498683820994481e-13, 5.327148281445145e-13],\n",
       " [1.0684259668093285e-13, 3.2345080950696387e-12],\n",
       " [4.2101305305333184e-15, 4.65779744975771e-16],\n",
       " [7.972374590538874e-24, 1.9012139105191265e-36],\n",
       " [6.052031761491815e-14, 4.345890801426969e-15],\n",
       " [2.5241389937353183e-14, 2.079528466281475e-14],\n",
       " [1.2026600996526707e-14, 2.277908579072479e-16],\n",
       " [1.2816039667822588e-14, 7.89890282041968e-16],\n",
       " [3.6405835139409336e-15, 6.110765218819319e-16],\n",
       " [1.8241848915125434e-14, 2.987506405334441e-14],\n",
       " [6.512317016468053e-14, 2.0753159836234267e-12],\n",
       " [4.0154951880659686e-14, 1.311754327573444e-14],\n",
       " [2.0982973896643277e-14, 1.471792760647836e-12],\n",
       " [1.0962782482702484e-13, 5.038283642836373e-13],\n",
       " [3.534555302736447e-15, 7.395368947380854e-15],\n",
       " [5.665147343236565e-14, 7.78569591397703e-13],\n",
       " [5.566610207720892e-15, 1.5105485926836221e-13],\n",
       " [2.4793446733851846e-13, 1.7415733219485553e-12],\n",
       " [6.649010255064278e-14, 8.706068844371417e-13],\n",
       " [1.9404178453974027e-14, 2.0058787789512089e-16],\n",
       " [8.105671537983249e-14, 1.2994389204111546e-13],\n",
       " [5.617393134575724e-14, 3.522752680803059e-12],\n",
       " [4.649847286778783e-13, 1.3000317814566684e-12],\n",
       " [1.0187631849486714e-13, 1.3614946776630293e-14],\n",
       " [2.1468683110810576e-13, 7.764865727309576e-13],\n",
       " [1.5810319475770037e-14, 3.3230601405806114e-17],\n",
       " [5.6100625521236173e-14, 2.988587206369754e-13],\n",
       " [9.67998043728861e-14, 5.100995196925583e-13],\n",
       " [1.2153503147484048e-16, 1.3373196111205162e-15],\n",
       " [5.147050079315362e-14, 1.8426882174848017e-15],\n",
       " [1.8267652764628593e-15, 1.38129904635147e-17],\n",
       " [6.348721730985682e-14, 5.826770324501566e-13],\n",
       " [5.043946936793651e-14, 2.2497206626451962e-13],\n",
       " [6.870536261400387e-14, 6.6053255197229564e-15],\n",
       " [8.593408486715977e-14, 1.1142290370406078e-12],\n",
       " [1.3827661302288458e-13, 1.8690456847118402e-13],\n",
       " [2.4959120037732264e-14, 4.180314698121333e-15],\n",
       " [2.09413626345035e-13, 1.1235688330497018e-12],\n",
       " [6.213933710187681e-15, 4.350014922477946e-16],\n",
       " [1.1559737100744311e-14, 1.2321437070616178e-15],\n",
       " [3.018650193166261e-13, 8.500305974613953e-13],\n",
       " [8.260653900285536e-14, 1.908545074575789e-12],\n",
       " [2.6353360001349676e-13, 5.085204186814152e-13],\n",
       " [1.3082108698867105e-13, 3.246934937935837e-13],\n",
       " [1.2087152924447305e-14, 1.2336325986336795e-12],\n",
       " [8.504025711069405e-14, 3.652386980002722e-12],\n",
       " [2.3178018376149398e-15, 3.002833090124067e-18]]"
      ]
     },
     "execution_count": 36,
     "metadata": {},
     "output_type": "execute_result"
    }
   ],
   "source": [
    "predicted_raw"
   ]
  },
  {
   "cell_type": "code",
   "execution_count": 37,
   "metadata": {},
   "outputs": [],
   "source": [
    "predictions = []\n",
    "for row in predicted_raw:\n",
    "    if(row[0] > row[1]):\n",
    "        predictions.append(1)\n",
    "    else:\n",
    "        predictions.append(0)"
   ]
  },
  {
   "cell_type": "code",
   "execution_count": 38,
   "metadata": {},
   "outputs": [
    {
     "data": {
      "text/plain": [
       "array([[126,  34],\n",
       "       [ 22,  49]])"
      ]
     },
     "execution_count": 38,
     "metadata": {},
     "output_type": "execute_result"
    }
   ],
   "source": [
    "confusion_matrix(y_test, predictions)"
   ]
  },
  {
   "cell_type": "code",
   "execution_count": 39,
   "metadata": {},
   "outputs": [
    {
     "data": {
      "text/plain": [
       "0.7575757575757576"
      ]
     },
     "execution_count": 39,
     "metadata": {},
     "output_type": "execute_result"
    }
   ],
   "source": [
    "accuracy_score(y_test, predictions)"
   ]
  },
  {
   "cell_type": "code",
   "execution_count": null,
   "metadata": {},
   "outputs": [],
   "source": []
  }
 ],
 "metadata": {
  "kernelspec": {
   "display_name": "Python 3",
   "language": "python",
   "name": "python3"
  },
  "language_info": {
   "codemirror_mode": {
    "name": "ipython",
    "version": 3
   },
   "file_extension": ".py",
   "mimetype": "text/x-python",
   "name": "python",
   "nbconvert_exporter": "python",
   "pygments_lexer": "ipython3",
   "version": "3.6.5"
  }
 },
 "nbformat": 4,
 "nbformat_minor": 2
}
