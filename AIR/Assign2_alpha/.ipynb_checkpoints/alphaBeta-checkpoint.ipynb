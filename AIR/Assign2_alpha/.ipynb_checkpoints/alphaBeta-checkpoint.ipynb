{
 "cells": [
  {
   "cell_type": "code",
   "execution_count": 0,
   "metadata": {
    "colab": {
     "base_uri": "https://localhost:8080/",
     "height": 34
    },
    "colab_type": "code",
    "id": "1aLesCMC271Z",
    "outputId": "6c578c7e-06ae-4790-df84-58e4c8a17c4a"
   },
   "outputs": [
    {
     "name": "stdout",
     "output_type": "stream",
     "text": [
      "The optimal value is :  6\n"
     ]
    }
   ],
   "source": [
    "MAX, MIN = 1000, -1000\n",
    "\n",
    "def minimax(depth, nodeIndex, maximizing, values, alpha, beta):\n",
    "  \n",
    "  #if leaf node\n",
    "  if depth == 3:\n",
    "    return values[nodeIndex]\n",
    "  \n",
    "  if maximizing:\n",
    "    best = MIN\n",
    "    \n",
    "    for i in range(0, 2):\n",
    "      val = minimax(depth+1, nodeIndex*2 + i, False, values, alpha, beta)\n",
    "      best = max(best, val)\n",
    "      alpha = max(alpha, best)\n",
    "      \n",
    "      if beta <= alpha:\n",
    "        break\n",
    "    return best\n",
    "  \n",
    "  else:\n",
    "    best = MAX\n",
    "    \n",
    "    for i in range(0, 2):\n",
    "      val = minimax(depth+1, nodeIndex*2 + i, True, values, alpha, beta)\n",
    "      best = min(best, val)\n",
    "      beta = min(beta, best)\n",
    "      \n",
    "      if beta <= alpha:\n",
    "        break\n",
    "    return best    \n",
    "    \n",
    "#values = [3,5,6,9,1,2,0,-1] #answer = 5 gfg\n",
    "#values = [2,3,5,9,0,1,7,5]  #answer = 3 javatpoint\n",
    "values = [5,6,7,4,5,3,6,6,9,7,5,9,8,6] #answer = 6 wikipedia\n",
    "print(\"The optimal value is : \", minimax(0,0,True,values,MIN,MAX))"
   ]
  },
  {
   "cell_type": "code",
   "execution_count": 0,
   "metadata": {
    "colab": {},
    "colab_type": "code",
    "id": "BUoqZR1c67aV"
   },
   "outputs": [],
   "source": []
  }
 ],
 "metadata": {
  "colab": {
   "collapsed_sections": [],
   "name": "alphaBeta.ipynb",
   "provenance": []
  },
  "kernelspec": {
   "display_name": "Python 3",
   "language": "python",
   "name": "python3"
  },
  "language_info": {
   "codemirror_mode": {
    "name": "ipython",
    "version": 3
   },
   "file_extension": ".py",
   "mimetype": "text/x-python",
   "name": "python",
   "nbconvert_exporter": "python",
   "pygments_lexer": "ipython3",
   "version": "3.6.5"
  }
 },
 "nbformat": 4,
 "nbformat_minor": 1
}
